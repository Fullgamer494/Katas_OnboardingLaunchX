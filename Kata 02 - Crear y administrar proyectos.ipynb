{
 "cells": [
  {
   "cell_type": "markdown",
   "metadata": {},
   "source": [
    "# Kata 02 - Crear y administrar proyectos"
   ]
  },
  {
   "cell_type": "markdown",
   "metadata": {},
   "source": [
    "## Creando el entorno virtual\n",
    "*Utilizando el código `python -m venv env` creé el entorno virtual en la carpeta que utilizaría para la Kata 02, al hacerlo creo la carpeta con el nombre especificado y los siguientes directorios*"
   ]
  },
  {
   "cell_type": "markdown",
   "metadata": {},
   "source": [
    "<img src=\"https://github.com/Fullgamer494/Katas_OnboardingLaunchX/blob/main/img/Creando%20venv.png?raw=true\">"
   ]
  },
  {
   "cell_type": "markdown",
   "metadata": {},
   "source": [
    "## Activando el entorno virtual\n",
    "*Para poder activar mi nuevo entorno virtual me dirigí a la carpeta de Scripts, en la cual hice uso del siguiente comando `activate` para inicializar mi entorno virtual*"
   ]
  },
  {
   "cell_type": "markdown",
   "metadata": {},
   "source": [
    "<img src=\"https://github.com/Fullgamer494/Katas_OnboardingLaunchX/blob/main/img/Activando%20venv.png?raw=true\">"
   ]
  },
  {
   "cell_type": "markdown",
   "metadata": {},
   "source": [
    "## Instalando bibliotecas en mi entorno virtual\n",
    "*Proseguí a comprobar que mi entorno virtual no tuviese ninguna librería instalada con el comando `pip freeze`, corroboré mi suposición y procedí a instalar la biblioteca python-dateutil con el comando `pip install python-dateutil`"
   ]
  },
  {
   "cell_type": "markdown",
   "metadata": {},
   "source": [
    "<img src=\"https://github.com/Fullgamer494/Katas_OnboardingLaunchX/blob/main/img/Instalando%20bibliotecas%20en%20el%20venv.png?raw=true\">"
   ]
  },
  {
   "cell_type": "markdown",
   "metadata": {},
   "source": [
    "## Desactivando el entorno virtual\n",
    "*Por último, verifiqué nuevamente las bibliotecas que estuviesen instaladas en mi entorno virtual, noté el cambió después de instalar la biblioteca anterior, así que me dispuse a desactivar el entorno virtual con el siguiente comando `deactivate`*"
   ]
  },
  {
   "cell_type": "markdown",
   "metadata": {},
   "source": [
    "<img src=\"https://github.com/Fullgamer494/Katas_OnboardingLaunchX/blob/main/img/Desactivando%20venv.png?raw=true\">"
   ]
  }
 ],
 "metadata": {
  "interpreter": {
   "hash": "213ef53c079af7013b6d1d68766d1ffe7e672bbfca94a0ad636de5e711638650"
  },
  "kernelspec": {
   "display_name": "Python 3.9.7 64-bit",
   "language": "python",
   "name": "python3"
  },
  "language_info": {
   "codemirror_mode": {
    "name": "ipython",
    "version": 3
   },
   "file_extension": ".py",
   "mimetype": "text/x-python",
   "name": "python",
   "nbconvert_exporter": "python",
   "pygments_lexer": "ipython3",
   "version": "3.9.7"
  },
  "orig_nbformat": 4
 },
 "nbformat": 4,
 "nbformat_minor": 2
}
