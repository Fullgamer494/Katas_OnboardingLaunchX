{
 "cells": [
  {
   "cell_type": "markdown",
   "metadata": {},
   "source": [
    "# Kata 09 - Funciones"
   ]
  },
  {
   "cell_type": "markdown",
   "metadata": {},
   "source": [
    "## Ejercicio 1 - Uso de funciones en Python\n",
    "*Los argumentos requeridos en las funciones se utilizan cuando las funciones necesitan que esos argumentos funcionen correctamente.*"
   ]
  },
  {
   "cell_type": "code",
   "execution_count": 10,
   "metadata": {},
   "outputs": [
    {
     "name": "stdout",
     "output_type": "stream",
     "text": [
      "\n",
      "        Primer tanque: 80\n",
      "        Segundo tanque: 30\n",
      "        Tercer tanque: 55\n",
      "        Promedio de valores: 55.0 \n"
     ]
    }
   ],
   "source": [
    "def lecturaTanques(tanque0, tanque1, tanque2):\n",
    "    promedioTanques = (tanque0 + tanque1 + tanque2) / 3\n",
    "    print(\"\"\"\n",
    "        Primer tanque: {tanque0}\n",
    "        Segundo tanque: {tanque1}\n",
    "        Tercer tanque: {tanque2}\n",
    "        Promedio de valores: {promedio} \"\"\".format(tanque0 = tanque0, tanque1 = tanque1, tanque2 = tanque2, promedio = promedioTanques))\n",
    "    \n",
    "lecturaTanques(80,30,55)"
   ]
  }
 ],
 "metadata": {
  "interpreter": {
   "hash": "213ef53c079af7013b6d1d68766d1ffe7e672bbfca94a0ad636de5e711638650"
  },
  "kernelspec": {
   "display_name": "Python 3.9.7 64-bit",
   "language": "python",
   "name": "python3"
  },
  "language_info": {
   "codemirror_mode": {
    "name": "ipython",
    "version": 3
   },
   "file_extension": ".py",
   "mimetype": "text/x-python",
   "name": "python",
   "nbconvert_exporter": "python",
   "pygments_lexer": "ipython3",
   "version": "3.9.7"
  },
  "orig_nbformat": 4
 },
 "nbformat": 4,
 "nbformat_minor": 2
}
