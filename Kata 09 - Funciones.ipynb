{
 "cells": [
  {
   "cell_type": "markdown",
   "metadata": {},
   "source": [
    "# Kata 09 - Funciones"
   ]
  },
  {
   "cell_type": "markdown",
   "metadata": {},
   "source": [
    "## Ejercicio 1 - Uso de funciones en Python\n",
    "*Los argumentos requeridos en las funciones se utilizan cuando las funciones necesitan que esos argumentos funcionen correctamente.*"
   ]
  },
  {
   "cell_type": "code",
   "execution_count": 30,
   "metadata": {},
   "outputs": [
    {
     "name": "stdout",
     "output_type": "stream",
     "text": [
      "Primer tanque: 80\n",
      "Segundo tanque: 30\n",
      "Tercer tanque: 55\n",
      "Promedio de valores: 55.0  \n",
      "\n",
      "55.0 \n",
      "\n",
      "Primer tanque: 80\n",
      "Segundo tanque: 30\n",
      "Tercer tanque: 55\n",
      "Promedio de valores: 55.0 \n"
     ]
    }
   ],
   "source": [
    "#Lectura de tanques\n",
    "\n",
    "def lecturaTanques(tanque0,tanque1,tanque2):\n",
    "    promedioTanques = (tanque0 + tanque1 + tanque2) / 3\n",
    "    return\"\"\"Primer tanque: {tanque0}\\nSegundo tanque: {tanque1}\\nTercer tanque: {tanque2}\\nPromedio de valores: {promedio} \"\"\".format(tanque0 = tanque0, tanque1 = tanque1, tanque2 = tanque2, promedio = promedioTanques)\n",
    "    \n",
    "print(lecturaTanques(80,30,55), '\\n')\n",
    "\n",
    "#Función para calcular promedio\n",
    "\n",
    "def promedioTanques(tanque0,tanque1,tanque2):\n",
    "    total = (tanque0 + tanque1 + tanque2) / 3\n",
    "    return total\n",
    "\n",
    "print(promedioTanques(80,30,55), '\\n')\n",
    "\n",
    "#Actualizando función\n",
    "\n",
    "def reporteLecturas(tanque0,tanque1,tanque2):\n",
    "    return\"\"\"Primer tanque: {tanque0}\\nSegundo tanque: {tanque1}\\nTercer tanque: {tanque2}\\nPromedio de valores: {promedio} \"\"\".format(tanque0 = tanque0, tanque1 = tanque1, tanque2 = tanque2, promedio = promedioTanques(tanque0,tanque1,tanque2))\n",
    "\n",
    "print(reporteLecturas(80,30,55))\n"
   ]
  },
  {
   "cell_type": "markdown",
   "metadata": {},
   "source": [
    "## Ejercicio 2 - Trabajando con argumentos de palabra clave\n",
    "*En este ejercicio, construirás un informe de cohete que requiere varias piezas de información, como el tiempo hasta el destino, el combustible a la izquierda y el nombre del destino.*"
   ]
  },
  {
   "cell_type": "code",
   "execution_count": 16,
   "metadata": {},
   "outputs": [
    {
     "name": "stdout",
     "output_type": "stream",
     "text": [
      "Misión para La luna\n",
      "Tiempo total del viaje: 2380 minutos\n",
      "Combustible total de reserva: 600 litros \n",
      "\n",
      "Misión para Marte\n",
      "Tiempo total del viaje: 589 minutos\n",
      "Combustible total de reserva: 1200 litros \n",
      "\n",
      "Misión para Marte\n",
      "Tiempo total del viaje: 589 minutos\n",
      "Combustible total de reserva: 1200 litros\n",
      "tanqueInterno contiene 400 litros\n",
      "tanqueExterno contiene 500 litros\n",
      "tanqueRepuesto contiene 300 litros\n",
      "\n"
     ]
    }
   ],
   "source": [
    "#Reporte preciso\n",
    "def reportePreciso(prelanzamiento,tiempoVuelo,destino,tanqueInt,tanqueExt):\n",
    "    return \"\"\"Misión para {destino}\\nTiempo total del viaje: {tiempoTotalViaje} minutos\\nCombustible total de reserva: {combustibleTotal} litros\"\"\".format(destino=destino,tiempoTotalViaje=(prelanzamiento + tiempoVuelo),combustibleTotal=(tanqueExt + tanqueInt))\n",
    "\n",
    "print(reportePreciso(25,2355,'La luna',400,200),'\\n')\n",
    "\n",
    "#Actualizando el reporte preciso a algo más flexible\n",
    "def reportePreciso(destino,*tiempo,**tanquesYLitros):\n",
    "    return \"\"\"Misión para {destino}\\nTiempo total del viaje: {tiempoTotalViaje} minutos\\nCombustible total de reserva: {combustibleTotal} litros\"\"\".format(destino=destino,tiempoTotalViaje=sum(tiempo),combustibleTotal=sum(tanquesYLitros.values()))\n",
    "\n",
    "print(reportePreciso('Marte',25,300,15,249, tanqueInt=400, tanqueExt=500, tanqueRepuesto=300),'\\n')\n",
    "\n",
    "#Actualizando el reporte preciso una vez más, reporte específico del valor de cada tanque\n",
    "def reportePreciso(destino,*tiempo,**tanquesYLitros):\n",
    "    reportePrincipal = \"\"\"Misión para {destino}\\nTiempo total del viaje: {tiempoTotalViaje} minutos\\nCombustible total de reserva: {combustibleTotal} litros\\n\"\"\".format(destino=destino,tiempoTotalViaje=sum(tiempo),combustibleTotal=sum(tanquesYLitros.values()))\n",
    "\n",
    "    for tanque, litros in tanquesYLitros.items():\n",
    "        reportePrincipal += \"\"\"{tanque} contiene {litros} litros\\n\"\"\".format(tanque=tanque,litros=litros)\n",
    "\n",
    "    return reportePrincipal\n",
    "\n",
    "print(reportePreciso('Marte',25,300,15,249, tanqueInterno=400, tanqueExterno=500, tanqueRepuesto=300))"
   ]
  }
 ],
 "metadata": {
  "interpreter": {
   "hash": "213ef53c079af7013b6d1d68766d1ffe7e672bbfca94a0ad636de5e711638650"
  },
  "kernelspec": {
   "display_name": "Python 3.9.7 64-bit",
   "language": "python",
   "name": "python3"
  },
  "language_info": {
   "codemirror_mode": {
    "name": "ipython",
    "version": 3
   },
   "file_extension": ".py",
   "mimetype": "text/x-python",
   "name": "python",
   "nbconvert_exporter": "python",
   "pygments_lexer": "ipython3",
   "version": "3.9.7"
  },
  "orig_nbformat": 4
 },
 "nbformat": 4,
 "nbformat_minor": 2
}
