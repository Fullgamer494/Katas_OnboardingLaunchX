{
 "cells": [
  {
   "cell_type": "markdown",
   "metadata": {},
   "source": [
    "# Kata 03 - Usar lógica booleana "
   ]
  },
  {
   "cell_type": "markdown",
   "metadata": {},
   "source": [
    "## Ejercicio 1\n",
    "*La velocidad del asteroide varía dependiendo de lo cerca que esté del sol, y cualquier velocidad superior a 25 kilómetros por segundo (km/s) merece una advertencia. Un asteroide se acerca, y viaja a una velocidad de 49 km/s.*"
   ]
  },
  {
   "cell_type": "code",
   "execution_count": 2,
   "metadata": {},
   "outputs": [
    {
     "name": "stdout",
     "output_type": "stream",
     "text": [
      "El asteroide tiene una velocidad de 49km/s, es potencialmente peligroso\n"
     ]
    }
   ],
   "source": [
    "velocidadAsteroide = 49\n",
    "\n",
    "if(25 < velocidadAsteroide):\n",
    "    print('El asteroide tiene una velocidad de ' + str(velocidadAsteroide) + 'km/s, es potencialmente peligroso')\n",
    "\n",
    "else:\n",
    "    print('No hay nada que amenace nuestra existencia como especie, puedes disfrutar tu día ;)')"
   ]
  },
  {
   "cell_type": "markdown",
   "metadata": {},
   "source": [
    "## Ejercicio 2\n",
    "*Si un asteroide entra en la atmósfera de la Tierra a una velocidad mayor o igual a 20 km/s, a veces produce un rayo de luz que se puede ver desde la Tierra.*"
   ]
  },
  {
   "cell_type": "code",
   "execution_count": 3,
   "metadata": {},
   "outputs": [
    {
     "name": "stdout",
     "output_type": "stream",
     "text": [
      "¡Mira hacia arriba!, puedes apreciar la luz de un asteroide entrando\n"
     ]
    }
   ],
   "source": [
    "velocidadAsteroide1 = 19\n",
    "\n",
    "if(20 <= velocidadAsteroide):\n",
    "    print('¡Mira hacia arriba!, puedes apreciar la luz de un asteroide entrando')\n",
    "\n",
    "else:\n",
    "    print('No hay novedad, todo está tranquilo')"
   ]
  },
  {
   "cell_type": "markdown",
   "metadata": {},
   "source": [
    "## Ejercicio 3 - Uso de operadores `and` y `or`\n",
    "*Usando toda esta información, escribe un programa que emita la advertencia o información correcta a la gente de la Tierra, según la velocidad y el tamaño de un asteroide.*"
   ]
  },
  {
   "cell_type": "code",
   "execution_count": 4,
   "metadata": {},
   "outputs": [
    {
     "name": "stdout",
     "output_type": "stream",
     "text": [
      "El tamaño del asteroide no es preocupante, pero su velocidad sí y podrás verlo entrar a la atmósfera\n"
     ]
    }
   ],
   "source": [
    "tamanoAsteroide = 10\n",
    "velocidadAsteroide2 = 27\n",
    "\n",
    "if(tamanoAsteroide > 25 and velocidadAsteroide > 25):\n",
    "    print('El tamaño del asteroide y su velocidad representan una potencial amenaza para el planeta y podrás ver cuando entre a la atmósfera')\n",
    "\n",
    "elif(tamanoAsteroide < 25 and velocidadAsteroide2 > 25):\n",
    "    print('El tamaño del asteroide no es preocupante, pero su velocidad sí y podrás verlo entrar a la atmósfera')\n",
    "\n",
    "elif(tamanoAsteroide > 25 and velocidadAsteroide2 >= 20 and velocidadAsteroide2 <= 25):\n",
    "    print('El tamaño del asteroide es alertante, pero su velocidad no, aunque es la suficiente para poder observarlo entrar a la atmósfera')\n",
    "\n",
    "elif(tamanoAsteroide < 25 and velocidadAsteroide2 >= 20 and velocidadAsteroide2 <= 25):\n",
    "    print('El tamaño y velocidad del asteroide no son preocupantes, aunque podrás apreciarlo al entrar a la atmósfera')\n",
    "\n",
    "else:\n",
    "    print('No existen amenazas extraterrestres por el momento, por lo tanto no podrás apreciar ningún fenómeno espacial, pero mira el lado bueno, tu vida tampoco está en riesgo')"
   ]
  }
 ],
 "metadata": {
  "interpreter": {
   "hash": "213ef53c079af7013b6d1d68766d1ffe7e672bbfca94a0ad636de5e711638650"
  },
  "kernelspec": {
   "display_name": "Python 3.9.7 64-bit",
   "language": "python",
   "name": "python3"
  },
  "language_info": {
   "codemirror_mode": {
    "name": "ipython",
    "version": 3
   },
   "file_extension": ".py",
   "mimetype": "text/x-python",
   "name": "python",
   "nbconvert_exporter": "python",
   "pygments_lexer": "ipython3",
   "version": "3.9.7"
  },
  "orig_nbformat": 4
 },
 "nbformat": 4,
 "nbformat_minor": 2
}
