{
 "cells": [
  {
   "cell_type": "markdown",
   "metadata": {},
   "source": [
    "# Kata 04 - Cadenas"
   ]
  },
  {
   "cell_type": "markdown",
   "metadata": {},
   "source": [
    "## Ejercicio 1 - Transformar cadenas\n",
    "*Usarás métodos de cadena para modificar el texto con hechos sobre la Luna y luego extraerás información para crear un breve resumen."
   ]
  },
  {
   "cell_type": "code",
   "execution_count": 56,
   "metadata": {},
   "outputs": [
    {
     "name": "stdout",
     "output_type": "stream",
     "text": [
      "On average, the Moon moves 4cm away from the Earth every year\n",
      "The highest daylight temperature of the Moon is 127 C\n",
      "\n",
      "\n",
      "Interesting facts about the Moon\n",
      "The Moon is Earth's only satellite\n",
      "There are several interesting facts about the Moon and how it affects life here on Earth\n",
      "On average, the Moon moves 4cm away from the Earth every year\n",
      "This yearly drift is not significant enough to cause immediate effects on Earth\n",
      "The highest daylight temperature of the Moon is 127 Celsius\n",
      "\n"
     ]
    }
   ],
   "source": [
    "texto = \"\"\"Interesting facts about the Moon.The Moon is Earth's only satellite.There are several interesting facts about the Moon and how it affects life here on Earth.On average, the Moon moves 4cm away from the Earth every year.This yearly drift is not significant enough to cause immediate effects on Earth.The highest daylight temperature of the Moon is 127 C.\"\"\"\n",
    "\n",
    "partesTexto = texto.split('.')\n",
    "palabrasClave = ['average','temperature','distance']\n",
    "\n",
    "for item in partesTexto:\n",
    "    for palabra in palabrasClave:\n",
    "        if palabra in item:\n",
    "            print(item)\n",
    "\n",
    "print('\\n')\n",
    "\n",
    "for item in partesTexto:\n",
    "    print(item.replace('C','Celsius'))"
   ]
  },
  {
   "cell_type": "markdown",
   "metadata": {},
   "source": [
    "## Formateando cadenas\n",
    "*En este ejercicio, se utilizan variables que contienen datos clave sobre la gravedad en varias lunas y luego se utilizan para dar formato e imprimir la información.*"
   ]
  },
  {
   "cell_type": "code",
   "execution_count": 55,
   "metadata": {},
   "outputs": [
    {
     "name": "stdout",
     "output_type": "stream",
     "text": [
      "Datos de gravedad sobre La luna\n",
      "    Nombre del planeta: Tierra\n",
      "    Gravedad en La luna: 1.62 m/s²\n",
      "\n",
      "Datos de gravedad sobre Ganímedes\n",
      "    Nombre del planeta: Marte\n",
      "    Gravedad en Ganímedes: 1.43 m/s²    \n",
      "\n",
      "Datos de gravedad sobre La luna\n",
      "    Nombre del planeta: Tierra\n",
      "    Gravedad en La luna: 1.62 m/s²    \n",
      "\n"
     ]
    }
   ],
   "source": [
    "nombre = 'La luna'\n",
    "gravedad = 0.00162\n",
    "planeta = 'Tierra'\n",
    "\n",
    "titulo = \"\"\"Datos de gravedad sobre {lunaNombre}\"\"\".format(lunaNombre = nombre,)\n",
    "datos = \"\"\"\n",
    "    Nombre del planeta: {planetaNombre}\n",
    "    Gravedad en {lunaNombre}: {gravedad} m/s²\n",
    "\"\"\".format(planetaNombre = planeta, lunaNombre = nombre, gravedad = (round(gravedad*1000,2)))\n",
    "\n",
    "formatoTab = titulo + datos\n",
    "print(formatoTab)\n",
    "\n",
    "nombre = 'Ganímedes'\n",
    "gravedad = 0.00143\n",
    "planeta = 'Marte'\n",
    "\n",
    "# print(formatoTab) --> No funciona\n",
    "\n",
    "\n",
    "#Probando la plantilla nueva\n",
    "\n",
    "nuevoFormato = \"\"\"Datos de gravedad sobre {lunaNombre}\n",
    "    Nombre del planeta: {planetaNombre}\n",
    "    Gravedad en {lunaNombre}: {gravedad} m/s²    \n",
    "\"\"\"\n",
    "\n",
    "print(nuevoFormato.format(planetaNombre = planeta, lunaNombre = nombre, gravedad = (round(gravedad*1000,2))))\n",
    "\n",
    "nombre = 'La luna'\n",
    "gravedad = 0.00162\n",
    "planeta = 'Tierra'\n",
    "\n",
    "print(nuevoFormato.format(planetaNombre = planeta, lunaNombre = nombre, gravedad = (round(gravedad*1000,2))))"
   ]
  }
 ],
 "metadata": {
  "interpreter": {
   "hash": "213ef53c079af7013b6d1d68766d1ffe7e672bbfca94a0ad636de5e711638650"
  },
  "kernelspec": {
   "display_name": "Python 3.9.7 64-bit",
   "language": "python",
   "name": "python3"
  },
  "language_info": {
   "codemirror_mode": {
    "name": "ipython",
    "version": 3
   },
   "file_extension": ".py",
   "mimetype": "text/x-python",
   "name": "python",
   "nbconvert_exporter": "python",
   "pygments_lexer": "ipython3",
   "version": "3.9.7"
  },
  "orig_nbformat": 4
 },
 "nbformat": 4,
 "nbformat_minor": 2
}
