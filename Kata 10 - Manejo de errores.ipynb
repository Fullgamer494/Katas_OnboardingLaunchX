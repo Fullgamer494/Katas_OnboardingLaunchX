{
 "cells": [
  {
   "cell_type": "markdown",
   "metadata": {},
   "source": [
    "# Kata 10 - Manejo de errores"
   ]
  },
  {
   "cell_type": "markdown",
   "metadata": {},
   "source": [
    "## Uso de tracebracks para buscar errores\n",
    "*Un traceback es el cuerpo del texto que puede apuntar al origen (y al final) de un error no controlado. Hacemos uso de las siguientes líneas de código para obtener de salida un error con más sentido.*"
   ]
  },
  {
   "cell_type": "code",
   "execution_count": 2,
   "metadata": {},
   "outputs": [
    {
     "ename": "FileNotFoundError",
     "evalue": "[Errno 2] No such file or directory: '/path/to/mars.jpg'",
     "output_type": "error",
     "traceback": [
      "\u001b[1;31m---------------------------------------------------------------------------\u001b[0m",
      "\u001b[1;31mFileNotFoundError\u001b[0m                         Traceback (most recent call last)",
      "\u001b[1;32mc:\\Users\\fullg\\Documents\\Microsoft Launch X\\Kata 10 - Manejo de errores.ipynb Cell 3'\u001b[0m in \u001b[0;36m<module>\u001b[1;34m\u001b[0m\n\u001b[0;32m      <a href='vscode-notebook-cell:/c%3A/Users/fullg/Documents/Microsoft%20Launch%20X/Kata%2010%20-%20Manejo%20de%20errores.ipynb#ch0000004?line=1'>2</a>\u001b[0m     \u001b[39mopen\u001b[39m(\u001b[39m\"\u001b[39m\u001b[39m/path/to/mars.jpg\u001b[39m\u001b[39m\"\u001b[39m)\n\u001b[0;32m      <a href='vscode-notebook-cell:/c%3A/Users/fullg/Documents/Microsoft%20Launch%20X/Kata%2010%20-%20Manejo%20de%20errores.ipynb#ch0000004?line=3'>4</a>\u001b[0m \u001b[39mif\u001b[39;00m \u001b[39m__name__\u001b[39m \u001b[39m==\u001b[39m \u001b[39m'\u001b[39m\u001b[39m__main__\u001b[39m\u001b[39m'\u001b[39m:\n\u001b[1;32m----> <a href='vscode-notebook-cell:/c%3A/Users/fullg/Documents/Microsoft%20Launch%20X/Kata%2010%20-%20Manejo%20de%20errores.ipynb#ch0000004?line=4'>5</a>\u001b[0m     main()\n",
      "\u001b[1;32mc:\\Users\\fullg\\Documents\\Microsoft Launch X\\Kata 10 - Manejo de errores.ipynb Cell 3'\u001b[0m in \u001b[0;36mmain\u001b[1;34m()\u001b[0m\n\u001b[0;32m      <a href='vscode-notebook-cell:/c%3A/Users/fullg/Documents/Microsoft%20Launch%20X/Kata%2010%20-%20Manejo%20de%20errores.ipynb#ch0000004?line=0'>1</a>\u001b[0m \u001b[39mdef\u001b[39;00m \u001b[39mmain\u001b[39m():\n\u001b[1;32m----> <a href='vscode-notebook-cell:/c%3A/Users/fullg/Documents/Microsoft%20Launch%20X/Kata%2010%20-%20Manejo%20de%20errores.ipynb#ch0000004?line=1'>2</a>\u001b[0m     \u001b[39mopen\u001b[39;49m(\u001b[39m\"\u001b[39;49m\u001b[39m/path/to/mars.jpg\u001b[39;49m\u001b[39m\"\u001b[39;49m)\n",
      "\u001b[1;31mFileNotFoundError\u001b[0m: [Errno 2] No such file or directory: '/path/to/mars.jpg'"
     ]
    }
   ],
   "source": [
    "def main():\n",
    "    open(\"/path/to/mars.jpg\")\n",
    "\n",
    "if __name__ == '__main__':\n",
    "    main()"
   ]
  },
  {
   "cell_type": "markdown",
   "metadata": {},
   "source": [
    "## Controlando las excepciones\n",
    "*Cuando encuentres por primera vez excepciones que muestren tracebacks grandes como salida, es posible que te veas tentado/a a detectar todos los errores para evitar que esto suceda. Aunque no es necesario detectar las excepciones todo el tiempo.*"
   ]
  },
  {
   "cell_type": "markdown",
   "metadata": {},
   "source": [
    "### Try y Except de los bloques\n",
    "*Procedo a utilizar Try y Except conociendo el error que me dará al tratar de abrir un archivo inexistente en el directorio actual.*"
   ]
  },
  {
   "cell_type": "code",
   "execution_count": 1,
   "metadata": {},
   "outputs": [
    {
     "name": "stdout",
     "output_type": "stream",
     "text": [
      "Couldn't find the config.txt file!\n"
     ]
    }
   ],
   "source": [
    "try:\n",
    "    open('config.txt')\n",
    "except FileNotFoundError:\n",
    "    print(\"No se puedo encontrar el archivo 'config.txt'\")"
   ]
  },
  {
   "cell_type": "markdown",
   "metadata": {},
   "source": [
    "*Ahora analizo un tipo diferente de error a la hora de trabajar con archivos, los permisos de archivo, cabe recalcar que no pude obtener el error especificado en la documentación de la Kata, en su lugar usé el error que siempre me daba.*"
   ]
  },
  {
   "cell_type": "code",
   "execution_count": 13,
   "metadata": {},
   "outputs": [
    {
     "name": "stdout",
     "output_type": "stream",
     "text": [
      "No se tiene los permisos para acceder al archivo 'config.txt'\n"
     ]
    }
   ],
   "source": [
    "def main():\n",
    "    try:\n",
    "        configuration = open('Kata 10 - Manejo de errores/config.txt')\n",
    "    except PermissionError:\n",
    "        print(\"No se tienen los permisos para acceder al archivo 'config.txt'\")\n",
    "\n",
    "if __name__ == '__main__':\n",
    "    main()"
   ]
  },
  {
   "cell_type": "markdown",
   "metadata": {},
   "source": [
    "*Tratamos de abarcar todos las excepciones vistas hasta el momento en una sola función `main()`.*"
   ]
  },
  {
   "cell_type": "code",
   "execution_count": 15,
   "metadata": {},
   "outputs": [
    {
     "name": "stdout",
     "output_type": "stream",
     "text": [
      "No se pudo encontrar el archivo 'config.txt'\n"
     ]
    }
   ],
   "source": [
    "def main():\n",
    "    try:\n",
    "        open('config.txt')\n",
    "    except FileNotFoundError:\n",
    "        print(\"No se pudo encontrar el archivo 'config.txt'\")\n",
    "    except PermissionError: \n",
    "        print(\"Se encontró 'config.txt', pero no se tienen los permisos necesarios para acceder a este\")\n",
    "\n",
    "if __name__ == '__main__':\n",
    "    main()"
   ]
  },
  {
   "cell_type": "markdown",
   "metadata": {},
   "source": [
    "*Cuando los errores son de una naturaleza similar y no es necesario controlarlos individualmente, puedes agrupar las excepciones como una usando paréntesis en la línea. Recuerda, SIEMPRE Y CUANDO NO SE NECESARIO CONTROLARLOS INDIVIDUALMENTE.*"
   ]
  },
  {
   "cell_type": "code",
   "execution_count": 16,
   "metadata": {},
   "outputs": [
    {
     "name": "stdout",
     "output_type": "stream",
     "text": [
      "No se pudo encontrar el archivo 'config.txt'\n"
     ]
    }
   ],
   "source": [
    "def main():\n",
    "    try:\n",
    "        open('config.txt')\n",
    "    except FileNotFoundError:\n",
    "        print(\"No se pudo encontrar el archivo 'config.txt'\")\n",
    "    except PermissionError: \n",
    "        print(\"Se encontró 'config.txt', pero no se tienen los permisos necesarios para acceder a este\")\n",
    "    except (BlockingIOError, TimeoutError):\n",
    "        print(\"El sistema se ha sobrecargado, no se puede completar la lectura del archivo\")\n",
    "\n",
    "if __name__ == '__main__':\n",
    "    main()"
   ]
  },
  {
   "cell_type": "markdown",
   "metadata": {},
   "source": [
    "*Accediendo al error asociado a la excepción mediante `except as`.*"
   ]
  },
  {
   "cell_type": "code",
   "execution_count": 18,
   "metadata": {},
   "outputs": [
    {
     "name": "stdout",
     "output_type": "stream",
     "text": [
      "No se puedo encontrar el archivo 'config.txt', error: [Errno 2] No such file or directory: 'config.txt'\n"
     ]
    }
   ],
   "source": [
    "try:\n",
    "    open('config.txt')\n",
    "except FileNotFoundError as noEncontrado:\n",
    "    print(\"No se puedo encontrar el archivo 'config.txt', error:\",noEncontrado)"
   ]
  },
  {
   "cell_type": "markdown",
   "metadata": {},
   "source": [
    "## Generación de excepciones\n",
    "*Los astronautas limitan su uso de agua a unos 11 litros al día. Vamos a crear una función que, con base al número de astronautas, pueda calcular la cantidad de agua quedará después de un día o más:*"
   ]
  },
  {
   "cell_type": "code",
   "execution_count": 21,
   "metadata": {},
   "outputs": [
    {
     "name": "stdout",
     "output_type": "stream",
     "text": [
      "El total de agua que queda después de 2 es de: -10 litros\n"
     ]
    }
   ],
   "source": [
    "def calculadorDeAgua(aguaReserva,dias,numAstronautas):\n",
    "    usoDiario = numAstronautas * 11\n",
    "    usoTotal = usoDiario * dias\n",
    "    aguaTotal = aguaReserva - usoTotal\n",
    "    return \"\"\"El total de agua que queda después de {dias} es de: {aguaTotal} litros\"\"\".format(dias=dias,aguaTotal=aguaTotal)\n",
    "\n",
    "print(calculadorDeAgua(100,2,5))"
   ]
  },
  {
   "cell_type": "markdown",
   "metadata": {},
   "source": [
    "*Esto no es muy útil, ya que una carencia en los litros sería un error.*"
   ]
  },
  {
   "cell_type": "code",
   "execution_count": 24,
   "metadata": {},
   "outputs": [
    {
     "ename": "RuntimeError",
     "evalue": "ERROR: El agua no es suficiente para los siguientes 2 dia(s)",
     "output_type": "error",
     "traceback": [
      "\u001b[1;31m---------------------------------------------------------------------------\u001b[0m",
      "\u001b[1;31mRuntimeError\u001b[0m                              Traceback (most recent call last)",
      "\u001b[1;32mc:\\Users\\fullg\\Documents\\Microsoft Launch X\\Kata 10 - Manejo de errores.ipynb Cell 18'\u001b[0m in \u001b[0;36m<module>\u001b[1;34m\u001b[0m\n\u001b[0;32m      <a href='vscode-notebook-cell:/c%3A/Users/fullg/Documents/Microsoft%20Launch%20X/Kata%2010%20-%20Manejo%20de%20errores.ipynb#ch0000022?line=5'>6</a>\u001b[0m         \u001b[39mraise\u001b[39;00m \u001b[39mRuntimeError\u001b[39;00m(\u001b[39m\"\"\"\u001b[39m\u001b[39mERROR: El agua no es suficiente para los siguientes \u001b[39m\u001b[39m{dias}\u001b[39;00m\u001b[39m dia(s)\u001b[39m\u001b[39m\"\"\"\u001b[39m\u001b[39m.\u001b[39mformat(dias\u001b[39m=\u001b[39mdias))\n\u001b[0;32m      <a href='vscode-notebook-cell:/c%3A/Users/fullg/Documents/Microsoft%20Launch%20X/Kata%2010%20-%20Manejo%20de%20errores.ipynb#ch0000022?line=7'>8</a>\u001b[0m     \u001b[39mreturn\u001b[39;00m \u001b[39m\"\"\"\u001b[39m\u001b[39mEl total de agua que queda después de \u001b[39m\u001b[39m{dias}\u001b[39;00m\u001b[39m es de: \u001b[39m\u001b[39m{aguaTotal}\u001b[39;00m\u001b[39m litros\u001b[39m\u001b[39m\"\"\"\u001b[39m\u001b[39m.\u001b[39mformat(dias\u001b[39m=\u001b[39mdias,aguaTotal\u001b[39m=\u001b[39maguaTotal)\n\u001b[1;32m---> <a href='vscode-notebook-cell:/c%3A/Users/fullg/Documents/Microsoft%20Launch%20X/Kata%2010%20-%20Manejo%20de%20errores.ipynb#ch0000022?line=9'>10</a>\u001b[0m \u001b[39mprint\u001b[39m(calculadorDeAgua(\u001b[39m100\u001b[39;49m,\u001b[39m2\u001b[39;49m,\u001b[39m5\u001b[39;49m))\n",
      "\u001b[1;32mc:\\Users\\fullg\\Documents\\Microsoft Launch X\\Kata 10 - Manejo de errores.ipynb Cell 18'\u001b[0m in \u001b[0;36mcalculadorDeAgua\u001b[1;34m(aguaReserva, dias, numAstronautas)\u001b[0m\n\u001b[0;32m      <a href='vscode-notebook-cell:/c%3A/Users/fullg/Documents/Microsoft%20Launch%20X/Kata%2010%20-%20Manejo%20de%20errores.ipynb#ch0000022?line=3'>4</a>\u001b[0m aguaTotal \u001b[39m=\u001b[39m aguaReserva \u001b[39m-\u001b[39m usoTotal\n\u001b[0;32m      <a href='vscode-notebook-cell:/c%3A/Users/fullg/Documents/Microsoft%20Launch%20X/Kata%2010%20-%20Manejo%20de%20errores.ipynb#ch0000022?line=4'>5</a>\u001b[0m \u001b[39mif\u001b[39;00m(aguaTotal \u001b[39m<\u001b[39m \u001b[39m0\u001b[39m):\n\u001b[1;32m----> <a href='vscode-notebook-cell:/c%3A/Users/fullg/Documents/Microsoft%20Launch%20X/Kata%2010%20-%20Manejo%20de%20errores.ipynb#ch0000022?line=5'>6</a>\u001b[0m     \u001b[39mraise\u001b[39;00m \u001b[39mRuntimeError\u001b[39;00m(\u001b[39m\"\"\"\u001b[39m\u001b[39mERROR: El agua no es suficiente para los siguientes \u001b[39m\u001b[39m{dias}\u001b[39;00m\u001b[39m dia(s)\u001b[39m\u001b[39m\"\"\"\u001b[39m\u001b[39m.\u001b[39mformat(dias\u001b[39m=\u001b[39mdias))\n\u001b[0;32m      <a href='vscode-notebook-cell:/c%3A/Users/fullg/Documents/Microsoft%20Launch%20X/Kata%2010%20-%20Manejo%20de%20errores.ipynb#ch0000022?line=7'>8</a>\u001b[0m \u001b[39mreturn\u001b[39;00m \u001b[39m\"\"\"\u001b[39m\u001b[39mEl total de agua que queda después de \u001b[39m\u001b[39m{dias}\u001b[39;00m\u001b[39m es de: \u001b[39m\u001b[39m{aguaTotal}\u001b[39;00m\u001b[39m litros\u001b[39m\u001b[39m\"\"\"\u001b[39m\u001b[39m.\u001b[39mformat(dias\u001b[39m=\u001b[39mdias,aguaTotal\u001b[39m=\u001b[39maguaTotal)\n",
      "\u001b[1;31mRuntimeError\u001b[0m: ERROR: El agua no es suficiente para los siguientes 2 dia(s)"
     ]
    }
   ],
   "source": [
    "def calculadorDeAgua(aguaReserva,dias,numAstronautas):\n",
    "    usoDiario = numAstronautas * 11\n",
    "    usoTotal = usoDiario * dias\n",
    "    aguaTotal = aguaReserva - usoTotal\n",
    "    if(aguaTotal < 0):\n",
    "        raise RuntimeError(\"\"\"ERROR: El agua no es suficiente para los siguientes {dias} dia(s)\"\"\".format(dias=dias))\n",
    "    \n",
    "    return \"\"\"El total de agua que queda después de {dias} es de: {aguaTotal} litros\"\"\".format(dias=dias,aguaTotal=aguaTotal)\n",
    "\n",
    "print(calculadorDeAgua(100,2,5))"
   ]
  },
  {
   "cell_type": "markdown",
   "metadata": {},
   "source": [
    "*Creamos una función que alerte y especifique el error ocasionado en la función calculadorDeAgua().*"
   ]
  },
  {
   "cell_type": "code",
   "execution_count": 53,
   "metadata": {},
   "outputs": [
    {
     "name": "stdout",
     "output_type": "stream",
     "text": [
      "ERROR: El agua no es suficiente para los siguientes dias\n"
     ]
    }
   ],
   "source": [
    "def calculadorDeAgua(aguaReserva,dias,numAstronautas):\n",
    "    usoDiario = numAstronautas * 11\n",
    "    usoTotal = usoDiario * dias\n",
    "    aguaTotal = aguaReserva - usoTotal\n",
    "    \n",
    "    if(aguaTotal < 0):\n",
    "        raise RuntimeError \n",
    "    \n",
    "    return \"\"\"El total de agua que queda después de {dias} es de: {aguaTotal} litros\"\"\".format(dias=dias,aguaTotal=aguaTotal)\n",
    "\n",
    "def alertaErrorAgua(error):\n",
    "    return \"\"\"ERROR: El agua no es suficiente para los siguientes dias\"\"\"\n",
    "    \n",
    "def alertaErrorEntrada(error):\n",
    "    return \"\"\"Todos los argumentos deben ser enteros\"\"\"\n",
    "    \n",
    "\n",
    "try:\n",
    "    calculadorDeAgua(5, 100, 2)\n",
    "except RuntimeError as error:\n",
    "    print(alertaErrorAgua(error))\n",
    "\n",
    "except TypeError as error:\n",
    "    print(alertaErrorEntrada(error))"
   ]
  }
 ],
 "metadata": {
  "interpreter": {
   "hash": "213ef53c079af7013b6d1d68766d1ffe7e672bbfca94a0ad636de5e711638650"
  },
  "kernelspec": {
   "display_name": "Python 3.9.7 64-bit",
   "language": "python",
   "name": "python3"
  },
  "language_info": {
   "codemirror_mode": {
    "name": "ipython",
    "version": 3
   },
   "file_extension": ".py",
   "mimetype": "text/x-python",
   "name": "python",
   "nbconvert_exporter": "python",
   "pygments_lexer": "ipython3",
   "version": "3.9.7"
  },
  "orig_nbformat": 4
 },
 "nbformat": 4,
 "nbformat_minor": 2
}
