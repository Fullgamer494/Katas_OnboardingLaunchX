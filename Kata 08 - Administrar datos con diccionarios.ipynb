{
 "cells": [
  {
   "cell_type": "markdown",
   "metadata": {},
   "source": [
    "# Kata 08 - Administrar datos con diccionarios"
   ]
  },
  {
   "cell_type": "markdown",
   "metadata": {},
   "source": [
    "## Creación de diccionarios en Python\n",
    "*Los diccionarios python te permiten modelar datos más complejos. Los diccionarios son una colección de pares clave/valor, y son muy comunes en los programas Python. Su flexibilidad le permite trabajar dinámicamente con valores relacionados sin tener que crear clases u objetos.*"
   ]
  },
  {
   "cell_type": "code",
   "execution_count": 32,
   "metadata": {},
   "outputs": [
    {
     "name": "stdout",
     "output_type": "stream",
     "text": [
      "Nombre del planeta: Marte\n",
      "Número de lunas: 79\n",
      "\n",
      "Nombre del planeta: Marte\n",
      "Circunferencia polar: 6752\n"
     ]
    }
   ],
   "source": [
    "planeta = {\n",
    "    'nombre': 'Marte',\n",
    "    'lunas': 79\n",
    "}\n",
    "\n",
    "print('Nombre del planeta: ' + planeta['nombre'])\n",
    "print('Número de lunas: ' + str(planeta['lunas']))\n",
    "\n",
    "planeta['circunferencia(km)'] = {\n",
    "    'polar': 6752,\n",
    "    'ecuatorial': 6792\n",
    "}\n",
    "\n",
    "print(\"\"\"\n",
    "Nombre del planeta: {nombre}\n",
    "Circunferencia polar: {polar}\"\"\".format(nombre = planeta['nombre'], polar = planeta['circunferencia(km)']['polar']))"
   ]
  },
  {
   "cell_type": "markdown",
   "metadata": {},
   "source": [
    "## Ejercicio 2 - Programación dinámica con diccionarios\n",
    "*En este escenario, calcularás tanto el número total de lunas en el sistema solar como el número promedio de lunas que tiene un planeta.*"
   ]
  },
  {
   "cell_type": "code",
   "execution_count": 38,
   "metadata": {},
   "outputs": [
    {
     "name": "stdout",
     "output_type": "stream",
     "text": [
      "En promedio hay 17.83 de lunas en el sistema solar\n"
     ]
    }
   ],
   "source": [
    "lunasDePlanetas = {\n",
    "    'mercurio': 0,\n",
    "    'venus': 0,\n",
    "    'tierra': 1,\n",
    "    'marte': 2,\n",
    "    'jupiter': 79,\n",
    "    'saturno': 82,\n",
    "    'urano': 27,\n",
    "    'neptuno': 14,\n",
    "    'plutón': 5,\n",
    "    'haumea': 2,\n",
    "    'makemake': 1,\n",
    "    'eris': 1\n",
    "}\n",
    "\n",
    "numLunas = lunasDePlanetas.values()\n",
    "numPlanetas = len(numLunas)\n",
    "\n",
    "totalLunas = 0\n",
    "\n",
    "for luna in numLunas:\n",
    "    totalLunas += luna\n",
    "\n",
    "lunasPromedio = totalLunas / numPlanetas\n",
    "\n",
    "print('En promedio hay ' + str(round(lunasPromedio,2)) + ' de lunas en el sistema solar')"
   ]
  }
 ],
 "metadata": {
  "interpreter": {
   "hash": "213ef53c079af7013b6d1d68766d1ffe7e672bbfca94a0ad636de5e711638650"
  },
  "kernelspec": {
   "display_name": "Python 3.9.7 64-bit",
   "language": "python",
   "name": "python3"
  },
  "language_info": {
   "codemirror_mode": {
    "name": "ipython",
    "version": 3
   },
   "file_extension": ".py",
   "mimetype": "text/x-python",
   "name": "python",
   "nbconvert_exporter": "python",
   "pygments_lexer": "ipython3",
   "version": "3.9.7"
  },
  "orig_nbformat": 4
 },
 "nbformat": 4,
 "nbformat_minor": 2
}
