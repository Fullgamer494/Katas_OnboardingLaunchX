{
 "cells": [
  {
   "cell_type": "markdown",
   "metadata": {},
   "source": [
    "# Kata 05 - Usar operaciones matemáticas"
   ]
  },
  {
   "cell_type": "markdown",
   "metadata": {},
   "source": [
    "## Ejercicio 1 - Utilizar operadores aritméticos\n",
    "*Exploremos cómo podemos crear un programa que pueda calcular la distancia entre dos planetas. Comenzaremos usando dos distancias de planetas: Tierra (149.597.870 km) y Júpiter (778.547.200 km).*"
   ]
  },
  {
   "cell_type": "code",
   "execution_count": 10,
   "metadata": {},
   "outputs": [
    {
     "name": "stdout",
     "output_type": "stream",
     "text": [
      "Distancia entre la Tierra y Júpiter en Km: 628949330\n",
      "Distancia entre la Tierra y Júpiter en Millas: 390577533.93\n"
     ]
    }
   ],
   "source": [
    "tierraDist = 149597870\n",
    "jupiterDist = 778547200\n",
    "\n",
    "distanciaEntre = jupiterDist - tierraDist\n",
    "\n",
    "print('Distancia entre la Tierra y Júpiter en Km: ' + str(distanciaEntre))\n",
    "print('Distancia entre la Tierra y Júpiter en Millas: ' + str((distanciaEntre * 0.621)))"
   ]
  },
  {
   "cell_type": "markdown",
   "metadata": {},
   "source": [
    "## Ejercicio 2 - Convierte cadenas en números y usa valores absolutos\n",
    "*Crear una aplicación para trabajar con números y entrada de usuario*"
   ]
  },
  {
   "cell_type": "code",
   "execution_count": 9,
   "metadata": {},
   "outputs": [
    {
     "name": "stdout",
     "output_type": "stream",
     "text": [
      "Distancia en Km: 50300000\n",
      "Distancia en Millas: 31236300.0\n"
     ]
    }
   ],
   "source": [
    "distanciaPlaneta = input('Introduzca la distancia del sol al primer planeta (en KM): ')\n",
    "distanciaPlaneta1 = input('Introduzca la distancia del sol al segundo planeta (en KM): ')\n",
    "\n",
    "distanciaEntre = int(distanciaPlaneta) - int(distanciaPlaneta1)\n",
    "print('Distancia en Km: '+ str(abs(distanciaEntre)))\n",
    "print('Distancia en Millas: ' + str(abs(distanciaEntre * 0.621)))"
   ]
  }
 ],
 "metadata": {
  "interpreter": {
   "hash": "213ef53c079af7013b6d1d68766d1ffe7e672bbfca94a0ad636de5e711638650"
  },
  "kernelspec": {
   "display_name": "Python 3.9.7 64-bit",
   "language": "python",
   "name": "python3"
  },
  "language_info": {
   "codemirror_mode": {
    "name": "ipython",
    "version": 3
   },
   "file_extension": ".py",
   "mimetype": "text/x-python",
   "name": "python",
   "nbconvert_exporter": "python",
   "pygments_lexer": "ipython3",
   "version": "3.9.7"
  },
  "orig_nbformat": 4
 },
 "nbformat": 4,
 "nbformat_minor": 2
}
